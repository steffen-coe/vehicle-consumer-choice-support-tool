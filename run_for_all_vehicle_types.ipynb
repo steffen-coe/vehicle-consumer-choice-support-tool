{
 "cells": [
  {
   "cell_type": "code",
   "execution_count": 1,
   "id": "2beaf3d3",
   "metadata": {},
   "outputs": [
    {
     "name": "stderr",
     "output_type": "stream",
     "text": [
      "2023-06-06 03:46:10.027 \n",
      "  \u001b[33m\u001b[1mWarning:\u001b[0m to view this Streamlit app on a browser, run it with the following\n",
      "  command:\n",
      "\n",
      "    streamlit run C:\\Users\\steff\\anaconda3\\lib\\site-packages\\ipykernel_launcher.py [ARGUMENTS]\n"
     ]
    }
   ],
   "source": [
    "# Imports\n",
    "import pandas as pd\n",
    "import matplotlib.pyplot as plt\n",
    "import plotly.graph_objects as go\n",
    "\n",
    "# from LCA import LCA\n",
    "import helpers as h\n",
    "\n",
    "from config.config import *\n",
    "\n",
    "import config.init\n",
    "config.init.run()"
   ]
  },
  {
   "cell_type": "code",
   "execution_count": 2,
   "id": "b494f432",
   "metadata": {},
   "outputs": [],
   "source": [
    "#read-in input data\n",
    "df_vehicles      = pd.read_excel(\"data/vehicle_types.xlsx\", index_col=\"name\")\n",
    "df_areas         = pd.read_excel(\"data/areas.xlsx\", index_col=\"area\")\n",
    "df_income_groups = pd.read_excel(\"data/income_groups.xlsx\", index_col=\"household income group\")"
   ]
  },
  {
   "cell_type": "code",
   "execution_count": 4,
   "id": "bc32cbfe",
   "metadata": {},
   "outputs": [
    {
     "name": "stdout",
     "output_type": "stream",
     "text": [
      "U.S.\n",
      "\t2021\n",
      "\t\tless than $25k\n",
      "\t\t$25-50k\n",
      "\t\t$50-75k\n",
      "\t\t$75-100k\n",
      "\t\t$100-200k\n",
      "\t\tmore than $200k\n",
      "\t2022\n",
      "\t\tless than $25k\n",
      "\t\t$25-50k\n",
      "\t\t$50-75k\n",
      "\t\t$75-100k\n",
      "\t\t$100-200k\n",
      "\t\tmore than $200k\n",
      "WA\n",
      "\t2021\n",
      "\t\tless than $25k\n",
      "\t\t$25-50k\n",
      "\t\t$50-75k\n",
      "\t\t$75-100k\n",
      "\t\t$100-200k\n",
      "\t\tmore than $200k\n",
      "\t2022\n",
      "\t\tless than $25k\n",
      "\t\t$25-50k\n",
      "\t\t$50-75k\n",
      "\t\t$75-100k\n",
      "\t\t$100-200k\n",
      "\t\tmore than $200k\n",
      "CA\n",
      "\t2021\n",
      "\t\tless than $25k\n",
      "\t\t$25-50k\n",
      "\t\t$50-75k\n",
      "\t\t$75-100k\n",
      "\t\t$100-200k\n",
      "\t\tmore than $200k\n",
      "\t2022\n",
      "\t\tless than $25k\n",
      "\t\t$25-50k\n",
      "\t\t$50-75k\n",
      "\t\t$75-100k\n",
      "\t\t$100-200k\n",
      "\t\tmore than $200k\n",
      "WV\n",
      "\t2021\n",
      "\t\tless than $25k\n",
      "\t\t$25-50k\n",
      "\t\t$50-75k\n",
      "\t\t$75-100k\n",
      "\t\t$100-200k\n",
      "\t\tmore than $200k\n",
      "\t2022\n",
      "\t\tless than $25k\n",
      "\t\t$25-50k\n",
      "\t\t$50-75k\n",
      "\t\t$75-100k\n",
      "\t\t$100-200k\n",
      "\t\tmore than $200k\n"
     ]
    }
   ],
   "source": [
    "#run LCA for all areas, years, income_groups, and veh_names_pairs, and save the derived cumulative differences in csv files\n",
    "diff_cum_df = pd.DataFrame()\n",
    "custom_discount_rate = None #only run for default discount rates here, since for any custom discount rate it runs again anyways\n",
    "for area in areas:\n",
    "    print(area)\n",
    "    for year in years:\n",
    "        print(\"\\t%d\"%year)\n",
    "        for income_group in income_groups:\n",
    "            print(\"\\t\\t%s\"%income_group)\n",
    "            h.run_LCA_for_all_veh_types(df_vehicles, df_areas, df_income_groups, area, year, income_group, custom_discount_rate)"
   ]
  },
  {
   "cell_type": "code",
   "execution_count": 9,
   "id": "186d1ad1",
   "metadata": {},
   "outputs": [
    {
     "ename": "NameError",
     "evalue": "name 'diff_cum_df' is not defined",
     "output_type": "error",
     "traceback": [
      "\u001b[1;31m---------------------------------------------------------------------------\u001b[0m",
      "\u001b[1;31mNameError\u001b[0m                                 Traceback (most recent call last)",
      "\u001b[1;32m~\\AppData\\Local\\Temp/ipykernel_10452/804523101.py\u001b[0m in \u001b[0;36m<module>\u001b[1;34m\u001b[0m\n\u001b[1;32m----> 1\u001b[1;33m \u001b[0mdiff_cum_df\u001b[0m\u001b[1;33m\u001b[0m\u001b[1;33m\u001b[0m\u001b[0m\n\u001b[0m",
      "\u001b[1;31mNameError\u001b[0m: name 'diff_cum_df' is not defined"
     ]
    }
   ],
   "source": [
    "diff_cum_df"
   ]
  },
  {
   "cell_type": "code",
   "execution_count": 3,
   "id": "85f68457",
   "metadata": {},
   "outputs": [
    {
     "name": "stdout",
     "output_type": "stream",
     "text": [
      "TX\n",
      "\t2022\n",
      "\t\tless than $25k\n",
      "\t\t$25-50k\n",
      "\t\t$50-75k\n",
      "\t\t$75-100k\n",
      "\t\t$100-200k\n",
      "\t\tmore than $200k\n",
      "WA\n",
      "\t2022\n",
      "\t\tless than $25k\n",
      "\t\t$25-50k\n",
      "\t\t$50-75k\n",
      "\t\t$75-100k\n",
      "\t\t$100-200k\n",
      "\t\tmore than $200k\n",
      "NY\n",
      "\t2022\n",
      "\t\tless than $25k\n",
      "\t\t$25-50k\n",
      "\t\t$50-75k\n",
      "\t\t$75-100k\n",
      "\t\t$100-200k\n",
      "\t\tmore than $200k\n",
      "DCFC\n",
      "\t2022\n",
      "\t\tless than $25k\n",
      "\t\t$25-50k\n",
      "\t\t$50-75k\n",
      "\t\t$75-100k\n",
      "\t\t$100-200k\n",
      "\t\tmore than $200k\n"
     ]
    }
   ],
   "source": [
    "#plot and save line plots for all areas, years, income_groups, and veh_names_pairs\n",
    "areas = [\"U.S.\"]\n",
    "areas = [\"TX\", \"WA\", \"NY\", \"DCFC\"]\n",
    "years = [2022]\n",
    "custom_discount_rate = None #only run for default discount rates\n",
    "# custom_discount_rate = 0.19\n",
    "y_quants = []\n",
    "# y_quants += [\"total costs [$]\"]\n",
    "y_quants += [\"total present value costs [$]\"]\n",
    "# y_quants += [\"total emissions [tCO$_2$-eq.]\"]\n",
    "for area in areas:\n",
    "    print(area)\n",
    "    for year in years:\n",
    "        print(\"\\t%d\"%year)\n",
    "        for income_group in income_groups:\n",
    "            print(\"\\t\\t%s\"%income_group)\n",
    "            for veh_type in veh_names_pairs_dict:\n",
    "                veh_names = veh_names_pairs_dict[veh_type]\n",
    "                \n",
    "                lca = h.LCA(df_vehicles, df_areas, df_income_groups, veh_names, area, year, income_group, custom_discount_rate)\n",
    "                lca.retrieve_results()\n",
    "                \n",
    "                for y_quant in y_quants:\n",
    "                    lca.plot_results(y_quant, save_figure=True)\n",
    "                    plt.close(\"all\")"
   ]
  },
  {
   "cell_type": "code",
   "execution_count": 5,
   "id": "75e24d27",
   "metadata": {
    "scrolled": true
   },
   "outputs": [
    {
     "name": "stdout",
     "output_type": "stream",
     "text": [
      "U.S.\n",
      "\t2022\n",
      "\t\tless than $25k\n"
     ]
    },
    {
     "ename": "KeyboardInterrupt",
     "evalue": "",
     "output_type": "error",
     "traceback": [
      "\u001b[1;31m---------------------------------------------------------------------------\u001b[0m",
      "\u001b[1;31mKeyboardInterrupt\u001b[0m                         Traceback (most recent call last)",
      "\u001b[1;32m~\\AppData\\Local\\Temp/ipykernel_5104/1667472479.py\u001b[0m in \u001b[0;36m<module>\u001b[1;34m\u001b[0m\n\u001b[0;32m     14\u001b[0m                     \u001b[1;32mfor\u001b[0m \u001b[0mshow_PV\u001b[0m \u001b[1;32min\u001b[0m \u001b[1;33m[\u001b[0m\u001b[1;36m0\u001b[0m\u001b[1;33m,\u001b[0m\u001b[1;36m1\u001b[0m\u001b[1;33m]\u001b[0m\u001b[1;33m:\u001b[0m\u001b[1;33m\u001b[0m\u001b[1;33m\u001b[0m\u001b[0m\n\u001b[0;32m     15\u001b[0m         \u001b[1;31m#                 print(\"\\t\\t\\t\\t%d\"%show_PV)\u001b[0m\u001b[1;33m\u001b[0m\u001b[1;33m\u001b[0m\u001b[1;33m\u001b[0m\u001b[0m\n\u001b[1;32m---> 16\u001b[1;33m                         \u001b[0mfig_one_either\u001b[0m \u001b[1;33m=\u001b[0m \u001b[0mh\u001b[0m\u001b[1;33m.\u001b[0m\u001b[0mplot_waterfall_one_either\u001b[0m\u001b[1;33m(\u001b[0m\u001b[0mveh_type\u001b[0m\u001b[1;33m,\u001b[0m \u001b[0marea\u001b[0m\u001b[1;33m,\u001b[0m \u001b[0myear\u001b[0m\u001b[1;33m,\u001b[0m \u001b[0mincome_group\u001b[0m\u001b[1;33m,\u001b[0m \u001b[0mcustom_discount_rate\u001b[0m\u001b[1;33m,\u001b[0m \u001b[0mshow_PV\u001b[0m\u001b[1;33m,\u001b[0m \u001b[0msave_figure\u001b[0m\u001b[1;33m=\u001b[0m\u001b[1;32mTrue\u001b[0m\u001b[1;33m)\u001b[0m\u001b[1;33m\u001b[0m\u001b[1;33m\u001b[0m\u001b[0m\n\u001b[0m\u001b[0;32m     17\u001b[0m         \u001b[1;31m#                 fig_one_either.show()\u001b[0m\u001b[1;33m\u001b[0m\u001b[1;33m\u001b[0m\u001b[1;33m\u001b[0m\u001b[0m\n\u001b[0;32m     18\u001b[0m                     \u001b[0mfig_one_both\u001b[0m \u001b[1;33m=\u001b[0m \u001b[0mh\u001b[0m\u001b[1;33m.\u001b[0m\u001b[0mplot_waterfall_one_both\u001b[0m\u001b[1;33m(\u001b[0m\u001b[0mveh_type\u001b[0m\u001b[1;33m,\u001b[0m \u001b[0marea\u001b[0m\u001b[1;33m,\u001b[0m \u001b[0myear\u001b[0m\u001b[1;33m,\u001b[0m \u001b[0mincome_group\u001b[0m\u001b[1;33m,\u001b[0m \u001b[0mcustom_discount_rate\u001b[0m\u001b[1;33m,\u001b[0m \u001b[0msave_figure\u001b[0m\u001b[1;33m=\u001b[0m\u001b[1;32mTrue\u001b[0m\u001b[1;33m)\u001b[0m\u001b[1;33m\u001b[0m\u001b[1;33m\u001b[0m\u001b[0m\n",
      "\u001b[1;32m~\\Documents\\Studium - UW\\PUBPOL 594 A - Economic Approaches To Environmental Management\\Project\\tool\\helpers.py\u001b[0m in \u001b[0;36mplot_waterfall_one_either\u001b[1;34m(veh_type, area, year, income_group, custom_discount_rate, show_PV, save_figure)\u001b[0m\n\u001b[0;32m     59\u001b[0m                 \u001b[0mdiff_cum_df\u001b[0m \u001b[1;33m=\u001b[0m \u001b[0mpd\u001b[0m\u001b[1;33m.\u001b[0m\u001b[0mread_csv\u001b[0m\u001b[1;33m(\u001b[0m\u001b[0mdiff_cum_df_fn_full\u001b[0m\u001b[1;33m,\u001b[0m \u001b[0mindex_col\u001b[0m\u001b[1;33m=\u001b[0m\u001b[1;34m\"quantity\"\u001b[0m\u001b[1;33m)\u001b[0m\u001b[1;33m\u001b[0m\u001b[1;33m\u001b[0m\u001b[0m\n\u001b[0;32m     60\u001b[0m         \u001b[1;32melse\u001b[0m\u001b[1;33m:\u001b[0m \u001b[1;31m#calculate cumulative results data\u001b[0m\u001b[1;33m\u001b[0m\u001b[1;33m\u001b[0m\u001b[0m\n\u001b[1;32m---> 61\u001b[1;33m                 \u001b[0mdiff_cum_df\u001b[0m \u001b[1;33m=\u001b[0m \u001b[0mrun_LCA_for_all_veh_types\u001b[0m\u001b[1;33m(\u001b[0m\u001b[0mdf_vehicles\u001b[0m\u001b[1;33m,\u001b[0m \u001b[0mdf_areas\u001b[0m\u001b[1;33m,\u001b[0m \u001b[0mdf_income_groups\u001b[0m\u001b[1;33m,\u001b[0m \u001b[0marea\u001b[0m\u001b[1;33m,\u001b[0m \u001b[0myear\u001b[0m\u001b[1;33m,\u001b[0m \u001b[0mincome_group\u001b[0m\u001b[1;33m,\u001b[0m \u001b[0mcustom_discount_rate\u001b[0m\u001b[1;33m)\u001b[0m\u001b[1;33m\u001b[0m\u001b[1;33m\u001b[0m\u001b[0m\n\u001b[0m\u001b[0;32m     62\u001b[0m \u001b[1;33m\u001b[0m\u001b[0m\n\u001b[0;32m     63\u001b[0m         \u001b[0mcols_for_waterfall_plot\u001b[0m \u001b[1;33m=\u001b[0m \u001b[1;33m[\u001b[0m\u001b[1;34m\"total \"\u001b[0m\u001b[1;33m+\u001b[0m\u001b[0mcost_type\u001b[0m\u001b[1;33m+\u001b[0m\u001b[1;34m\" costs [$]\"\u001b[0m \u001b[1;32mfor\u001b[0m \u001b[0mcost_type\u001b[0m \u001b[1;32min\u001b[0m \u001b[0mcost_types\u001b[0m\u001b[1;33m]\u001b[0m\u001b[1;33m\u001b[0m\u001b[1;33m\u001b[0m\u001b[0m\n",
      "\u001b[1;32m~\\Documents\\Studium - UW\\PUBPOL 594 A - Economic Approaches To Environmental Management\\Project\\tool\\helpers.py\u001b[0m in \u001b[0;36mrun_LCA_for_all_veh_types\u001b[1;34m(df_vehicles, df_areas, df_income_groups, area, year, income_group, custom_discount_rate)\u001b[0m\n\u001b[0;32m     31\u001b[0m                 \u001b[1;31m#initialize LCA class object and run/read results\u001b[0m\u001b[1;33m\u001b[0m\u001b[1;33m\u001b[0m\u001b[1;33m\u001b[0m\u001b[0m\n\u001b[0;32m     32\u001b[0m                 \u001b[0mlca\u001b[0m \u001b[1;33m=\u001b[0m \u001b[0mLCA\u001b[0m\u001b[1;33m(\u001b[0m\u001b[0mdf_vehicles\u001b[0m\u001b[1;33m,\u001b[0m \u001b[0mdf_areas\u001b[0m\u001b[1;33m,\u001b[0m \u001b[0mdf_income_groups\u001b[0m\u001b[1;33m,\u001b[0m \u001b[0mveh_names\u001b[0m\u001b[1;33m,\u001b[0m \u001b[0marea\u001b[0m\u001b[1;33m,\u001b[0m \u001b[0myear\u001b[0m\u001b[1;33m,\u001b[0m \u001b[0mincome_group\u001b[0m\u001b[1;33m,\u001b[0m \u001b[0mcustom_discount_rate\u001b[0m\u001b[1;33m)\u001b[0m\u001b[1;33m\u001b[0m\u001b[1;33m\u001b[0m\u001b[0m\n\u001b[1;32m---> 33\u001b[1;33m                 \u001b[0mlca\u001b[0m\u001b[1;33m.\u001b[0m\u001b[0mretrieve_results\u001b[0m\u001b[1;33m(\u001b[0m\u001b[1;33m)\u001b[0m\u001b[1;33m\u001b[0m\u001b[1;33m\u001b[0m\u001b[0m\n\u001b[0m\u001b[0;32m     34\u001b[0m \u001b[1;33m\u001b[0m\u001b[0m\n\u001b[0;32m     35\u001b[0m                 \u001b[1;31m#derive differences\u001b[0m\u001b[1;33m\u001b[0m\u001b[1;33m\u001b[0m\u001b[1;33m\u001b[0m\u001b[0m\n",
      "\u001b[1;32m~\\Documents\\Studium - UW\\PUBPOL 594 A - Economic Approaches To Environmental Management\\Project\\tool\\LCA.py\u001b[0m in \u001b[0;36mretrieve_results\u001b[1;34m(self)\u001b[0m\n\u001b[0;32m    110\u001b[0m                                 \u001b[0mself\u001b[0m\u001b[1;33m.\u001b[0m\u001b[0mread_results\u001b[0m\u001b[1;33m(\u001b[0m\u001b[0mveh_name\u001b[0m\u001b[1;33m)\u001b[0m\u001b[1;33m\u001b[0m\u001b[1;33m\u001b[0m\u001b[0m\n\u001b[0;32m    111\u001b[0m                         \u001b[1;32melse\u001b[0m\u001b[1;33m:\u001b[0m\u001b[1;33m\u001b[0m\u001b[1;33m\u001b[0m\u001b[0m\n\u001b[1;32m--> 112\u001b[1;33m                                 \u001b[0mself\u001b[0m\u001b[1;33m.\u001b[0m\u001b[0mrun\u001b[0m\u001b[1;33m(\u001b[0m\u001b[0mveh_name\u001b[0m\u001b[1;33m)\u001b[0m\u001b[1;33m\u001b[0m\u001b[1;33m\u001b[0m\u001b[0m\n\u001b[0m\u001b[0;32m    113\u001b[0m \u001b[1;33m\u001b[0m\u001b[0m\n\u001b[0;32m    114\u001b[0m         \u001b[1;32mdef\u001b[0m \u001b[0mmi2yr\u001b[0m\u001b[1;33m(\u001b[0m\u001b[0mself\u001b[0m\u001b[1;33m,\u001b[0m \u001b[0mmiles\u001b[0m\u001b[1;33m)\u001b[0m\u001b[1;33m:\u001b[0m\u001b[1;33m\u001b[0m\u001b[1;33m\u001b[0m\u001b[0m\n",
      "\u001b[1;32m~\\Documents\\Studium - UW\\PUBPOL 594 A - Economic Approaches To Environmental Management\\Project\\tool\\LCA.py\u001b[0m in \u001b[0;36mrun\u001b[1;34m(self, veh_name)\u001b[0m\n\u001b[0;32m    189\u001b[0m \u001b[1;33m\u001b[0m\u001b[0m\n\u001b[0;32m    190\u001b[0m                 \u001b[1;31m#round costs and emissions\u001b[0m\u001b[1;33m\u001b[0m\u001b[1;33m\u001b[0m\u001b[1;33m\u001b[0m\u001b[0m\n\u001b[1;32m--> 191\u001b[1;33m                 \u001b[0mresults_df\u001b[0m \u001b[1;33m=\u001b[0m \u001b[0mresults_df\u001b[0m\u001b[1;33m.\u001b[0m\u001b[0mconvert_dtypes\u001b[0m\u001b[1;33m(\u001b[0m\u001b[1;33m)\u001b[0m\u001b[1;33m\u001b[0m\u001b[1;33m\u001b[0m\u001b[0m\n\u001b[0m\u001b[0;32m    192\u001b[0m                 \u001b[0mresults_df\u001b[0m\u001b[1;33m[\u001b[0m\u001b[0mself\u001b[0m\u001b[1;33m.\u001b[0m\u001b[0mcosts_columns\u001b[0m\u001b[1;33m]\u001b[0m \u001b[1;33m=\u001b[0m \u001b[0mresults_df\u001b[0m\u001b[1;33m[\u001b[0m\u001b[0mself\u001b[0m\u001b[1;33m.\u001b[0m\u001b[0mcosts_columns\u001b[0m\u001b[1;33m]\u001b[0m\u001b[1;33m.\u001b[0m\u001b[0mreplace\u001b[0m\u001b[1;33m(\u001b[0m\u001b[0mpd\u001b[0m\u001b[1;33m.\u001b[0m\u001b[0mNA\u001b[0m\u001b[1;33m,\u001b[0m \u001b[0mnp\u001b[0m\u001b[1;33m.\u001b[0m\u001b[0mnan\u001b[0m\u001b[1;33m)\u001b[0m\u001b[1;33m.\u001b[0m\u001b[0mround\u001b[0m\u001b[1;33m(\u001b[0m\u001b[1;36m0\u001b[0m\u001b[1;33m)\u001b[0m\u001b[1;33m\u001b[0m\u001b[1;33m\u001b[0m\u001b[0m\n\u001b[0;32m    193\u001b[0m                 \u001b[0mresults_df\u001b[0m\u001b[1;33m[\u001b[0m\u001b[0mself\u001b[0m\u001b[1;33m.\u001b[0m\u001b[0memissions_columns\u001b[0m\u001b[1;33m]\u001b[0m \u001b[1;33m=\u001b[0m \u001b[0mresults_df\u001b[0m\u001b[1;33m[\u001b[0m\u001b[0mself\u001b[0m\u001b[1;33m.\u001b[0m\u001b[0memissions_columns\u001b[0m\u001b[1;33m]\u001b[0m\u001b[1;33m.\u001b[0m\u001b[0mreplace\u001b[0m\u001b[1;33m(\u001b[0m\u001b[0mpd\u001b[0m\u001b[1;33m.\u001b[0m\u001b[0mNA\u001b[0m\u001b[1;33m,\u001b[0m \u001b[0mnp\u001b[0m\u001b[1;33m.\u001b[0m\u001b[0mnan\u001b[0m\u001b[1;33m)\u001b[0m\u001b[1;33m.\u001b[0m\u001b[0mround\u001b[0m\u001b[1;33m(\u001b[0m\u001b[1;36m2\u001b[0m\u001b[1;33m)\u001b[0m\u001b[1;33m\u001b[0m\u001b[1;33m\u001b[0m\u001b[0m\n",
      "\u001b[1;32m~\\anaconda3\\lib\\site-packages\\pandas\\core\\generic.py\u001b[0m in \u001b[0;36mconvert_dtypes\u001b[1;34m(self, infer_objects, convert_string, convert_integer, convert_boolean, convert_floating)\u001b[0m\n\u001b[0;32m   6175\u001b[0m             )\n\u001b[0;32m   6176\u001b[0m         \u001b[1;32melse\u001b[0m\u001b[1;33m:\u001b[0m\u001b[1;33m\u001b[0m\u001b[1;33m\u001b[0m\u001b[0m\n\u001b[1;32m-> 6177\u001b[1;33m             results = [\n\u001b[0m\u001b[0;32m   6178\u001b[0m                 col._convert_dtypes(\n\u001b[0;32m   6179\u001b[0m                     \u001b[0minfer_objects\u001b[0m\u001b[1;33m,\u001b[0m\u001b[1;33m\u001b[0m\u001b[1;33m\u001b[0m\u001b[0m\n",
      "\u001b[1;32m~\\anaconda3\\lib\\site-packages\\pandas\\core\\generic.py\u001b[0m in \u001b[0;36m<listcomp>\u001b[1;34m(.0)\u001b[0m\n\u001b[0;32m   6176\u001b[0m         \u001b[1;32melse\u001b[0m\u001b[1;33m:\u001b[0m\u001b[1;33m\u001b[0m\u001b[1;33m\u001b[0m\u001b[0m\n\u001b[0;32m   6177\u001b[0m             results = [\n\u001b[1;32m-> 6178\u001b[1;33m                 col._convert_dtypes(\n\u001b[0m\u001b[0;32m   6179\u001b[0m                     \u001b[0minfer_objects\u001b[0m\u001b[1;33m,\u001b[0m\u001b[1;33m\u001b[0m\u001b[1;33m\u001b[0m\u001b[0m\n\u001b[0;32m   6180\u001b[0m                     \u001b[0mconvert_string\u001b[0m\u001b[1;33m,\u001b[0m\u001b[1;33m\u001b[0m\u001b[1;33m\u001b[0m\u001b[0m\n",
      "\u001b[1;32m~\\anaconda3\\lib\\site-packages\\pandas\\core\\series.py\u001b[0m in \u001b[0;36m_convert_dtypes\u001b[1;34m(self, infer_objects, convert_string, convert_integer, convert_boolean, convert_floating)\u001b[0m\n\u001b[0;32m   5145\u001b[0m \u001b[1;33m\u001b[0m\u001b[0m\n\u001b[0;32m   5146\u001b[0m         \u001b[1;32mif\u001b[0m \u001b[0mconvert_string\u001b[0m \u001b[1;32mor\u001b[0m \u001b[0mconvert_integer\u001b[0m \u001b[1;32mor\u001b[0m \u001b[0mconvert_boolean\u001b[0m \u001b[1;32mor\u001b[0m \u001b[0mconvert_floating\u001b[0m\u001b[1;33m:\u001b[0m\u001b[1;33m\u001b[0m\u001b[1;33m\u001b[0m\u001b[0m\n\u001b[1;32m-> 5147\u001b[1;33m             inferred_dtype = convert_dtypes(\n\u001b[0m\u001b[0;32m   5148\u001b[0m                 \u001b[0minput_series\u001b[0m\u001b[1;33m.\u001b[0m\u001b[0m_values\u001b[0m\u001b[1;33m,\u001b[0m\u001b[1;33m\u001b[0m\u001b[1;33m\u001b[0m\u001b[0m\n\u001b[0;32m   5149\u001b[0m                 \u001b[0mconvert_string\u001b[0m\u001b[1;33m,\u001b[0m\u001b[1;33m\u001b[0m\u001b[1;33m\u001b[0m\u001b[0m\n",
      "\u001b[1;32m~\\anaconda3\\lib\\site-packages\\pandas\\core\\dtypes\\cast.py\u001b[0m in \u001b[0;36mconvert_dtypes\u001b[1;34m(input_array, convert_string, convert_integer, convert_boolean, convert_floating)\u001b[0m\n\u001b[0;32m   1437\u001b[0m                 \u001b[1;31m# TODO: de-dup with maybe_cast_to_integer_array?\u001b[0m\u001b[1;33m\u001b[0m\u001b[1;33m\u001b[0m\u001b[1;33m\u001b[0m\u001b[0m\n\u001b[0;32m   1438\u001b[0m                 \u001b[0marr\u001b[0m \u001b[1;33m=\u001b[0m \u001b[0minput_array\u001b[0m\u001b[1;33m[\u001b[0m\u001b[0mnotna\u001b[0m\u001b[1;33m(\u001b[0m\u001b[0minput_array\u001b[0m\u001b[1;33m)\u001b[0m\u001b[1;33m]\u001b[0m\u001b[1;33m\u001b[0m\u001b[1;33m\u001b[0m\u001b[0m\n\u001b[1;32m-> 1439\u001b[1;33m                 \u001b[1;32mif\u001b[0m \u001b[1;33m(\u001b[0m\u001b[0marr\u001b[0m\u001b[1;33m.\u001b[0m\u001b[0mastype\u001b[0m\u001b[1;33m(\u001b[0m\u001b[0mint\u001b[0m\u001b[1;33m)\u001b[0m \u001b[1;33m==\u001b[0m \u001b[0marr\u001b[0m\u001b[1;33m)\u001b[0m\u001b[1;33m.\u001b[0m\u001b[0mall\u001b[0m\u001b[1;33m(\u001b[0m\u001b[1;33m)\u001b[0m\u001b[1;33m:\u001b[0m\u001b[1;33m\u001b[0m\u001b[1;33m\u001b[0m\u001b[0m\n\u001b[0m\u001b[0;32m   1440\u001b[0m                     \u001b[0minferred_dtype\u001b[0m \u001b[1;33m=\u001b[0m \u001b[0mtarget_int_dtype\u001b[0m\u001b[1;33m\u001b[0m\u001b[1;33m\u001b[0m\u001b[0m\n\u001b[0;32m   1441\u001b[0m                 \u001b[1;32melse\u001b[0m\u001b[1;33m:\u001b[0m\u001b[1;33m\u001b[0m\u001b[1;33m\u001b[0m\u001b[0m\n",
      "\u001b[1;31mKeyboardInterrupt\u001b[0m: "
     ]
    }
   ],
   "source": [
    "#plot and save waterfall plots for all areas, years, income_groups, and veh_names_pairs\n",
    "areas = [\"U.S.\"]\n",
    "years = [2022]\n",
    "custom_discount_rates = [None, 0.02, 0.15] #None == default\n",
    "for area in areas:\n",
    "    print(area)\n",
    "    for year in years:\n",
    "        print(\"\\t%d\"%year)\n",
    "        for income_group in income_groups:\n",
    "            print(\"\\t\\t%s\"%income_group)\n",
    "            for custom_discount_rate in custom_discount_rates:\n",
    "                for veh_type in veh_names_pairs_dict:\n",
    "        #             print(\"\\t\\t\\t%s\"%str(veh_type))\n",
    "                    for show_PV in [0,1]:\n",
    "        #                 print(\"\\t\\t\\t\\t%d\"%show_PV)\n",
    "                        fig_one_either = h.plot_waterfall_one_either(veh_type, area, year, income_group, custom_discount_rate, show_PV, save_figure=True)\n",
    "        #                 fig_one_either.show()\n",
    "                    fig_one_both = h.plot_waterfall_one_both(veh_type, area, year, income_group, custom_discount_rate, save_figure=True)\n",
    "        #             fig_one_both.show()\n",
    "                for show_PV in [0,1]:\n",
    "                    fig_all_either = h.plot_waterfall_all_either(veh_names_pairs_dict.keys(), area, year, income_group, custom_discount_rate, show_PV, save_figure=True)\n",
    "        #             fig_all_either.show()"
   ]
  },
  {
   "cell_type": "code",
   "execution_count": null,
   "id": "813d4a05",
   "metadata": {},
   "outputs": [],
   "source": []
  }
 ],
 "metadata": {
  "kernelspec": {
   "display_name": "Python 3 (ipykernel)",
   "language": "python",
   "name": "python3"
  },
  "language_info": {
   "codemirror_mode": {
    "name": "ipython",
    "version": 3
   },
   "file_extension": ".py",
   "mimetype": "text/x-python",
   "name": "python",
   "nbconvert_exporter": "python",
   "pygments_lexer": "ipython3",
   "version": "3.8.8"
  }
 },
 "nbformat": 4,
 "nbformat_minor": 5
}
